{
 "cells": [
  {
   "cell_type": "markdown",
   "id": "07f9d547",
   "metadata": {},
   "source": [
    "# Test API Calls"
   ]
  },
  {
   "cell_type": "code",
   "execution_count": 53,
   "id": "af401704",
   "metadata": {},
   "outputs": [
    {
     "data": {
      "text/plain": [
       "True"
      ]
     },
     "execution_count": 53,
     "metadata": {},
     "output_type": "execute_result"
    }
   ],
   "source": [
    "import os\n",
    "from dotenv import load_dotenv\n",
    "import requests\n",
    "load_dotenv()"
   ]
  },
  {
   "cell_type": "markdown",
   "id": "0edf9ae3",
   "metadata": {},
   "source": [
    "### Auth"
   ]
  },
  {
   "cell_type": "code",
   "execution_count": 64,
   "id": "tqq81i2ttab",
   "metadata": {},
   "outputs": [
    {
     "name": "stdout",
     "output_type": "stream",
     "text": [
      "⚠️ Session expired\n",
      "📧 Sending OTP to test@tristansinclair.dev...\n",
      "✅ OTP sent! Check your email\n",
      "🔐 Verifying OTP...\n",
      "✅ Sign in successful!\n",
      "✅ Session saved\n",
      "🎉 Ready to make authenticated requests!\n"
     ]
    }
   ],
   "source": [
    "# Import the auth helper\n",
    "import auth_helper as auth\n",
    "\n",
    "# Initialize authentication (uses saved session or prompts for OTP)\n",
    "if auth.init():\n",
    "    print(\"🎉 Ready to make authenticated requests!\")\n",
    "else:\n",
    "    print(\"❌ Authentication failed\")"
   ]
  },
  {
   "cell_type": "code",
   "execution_count": 63,
   "id": "3a6da430",
   "metadata": {},
   "outputs": [
    {
     "ename": "AttributeError",
     "evalue": "module 'auth_helper' has no attribute 'refresh_token'",
     "output_type": "error",
     "traceback": [
      "\u001b[31m---------------------------------------------------------------------------\u001b[39m",
      "\u001b[31mAttributeError\u001b[39m                            Traceback (most recent call last)",
      "\u001b[36mCell\u001b[39m\u001b[36m \u001b[39m\u001b[32mIn[63]\u001b[39m\u001b[32m, line 2\u001b[39m\n\u001b[32m      1\u001b[39m \u001b[38;5;66;03m# refresh the user token\u001b[39;00m\n\u001b[32m----> \u001b[39m\u001b[32m2\u001b[39m \u001b[43mauth\u001b[49m\u001b[43m.\u001b[49m\u001b[43mrefresh_token\u001b[49m()\n",
      "\u001b[31mAttributeError\u001b[39m: module 'auth_helper' has no attribute 'refresh_token'"
     ]
    }
   ],
   "source": [
    "# refresh the user token\n",
    "auth.refresh_token()"
   ]
  },
  {
   "cell_type": "code",
   "execution_count": 65,
   "id": "jdergly7vjh",
   "metadata": {},
   "outputs": [
    {
     "name": "stdout",
     "output_type": "stream",
     "text": [
      "User info: {'authenticated': True, 'user_id': '371c2f1c-f469-447e-9ab8-7921302fb49c', 'email': 'test@tristansinclair.dev', 'created_at': '2025-08-07T01:35:16.656512+00:00', 'metadata': {'email': 'test@tristansinclair.dev', 'email_verified': True, 'phone_verified': False, 'sub': '371c2f1c-f469-447e-9ab8-7921302fb49c'}}\n"
     ]
    }
   ],
   "source": [
    "# Make authenticated requests easily\n",
    "response = auth.request(\"/get_user\")\n",
    "if response and response.ok:\n",
    "    print(\"User info:\", response.json())"
   ]
  },
  {
   "cell_type": "markdown",
   "id": "q3s6viijn8",
   "metadata": {},
   "source": [
    "### Making other API calls"
   ]
  },
  {
   "cell_type": "code",
   "execution_count": 66,
   "id": "vhce29a7h6",
   "metadata": {},
   "outputs": [
    {
     "name": "stdout",
     "output_type": "stream",
     "text": [
      "Health check: {'status': 'healthy', 'services': {'database': {'status': 'up'}, 'checkpointer': {'status': 'up'}}}\n"
     ]
    }
   ],
   "source": [
    "# Example: GET request\n",
    "response = auth.request(\"/health\")\n",
    "if response and response.ok:\n",
    "    print(\"Health check:\", response.json())\n"
   ]
  },
  {
   "cell_type": "markdown",
   "id": "hyw82ax25z9",
   "metadata": {},
   "source": [
    "### Create a new thread"
   ]
  },
  {
   "cell_type": "code",
   "execution_count": 37,
   "id": "s0ak0xyvbx",
   "metadata": {},
   "outputs": [
    {
     "name": "stdout",
     "output_type": "stream",
     "text": [
      "✅ Created new thread: 6c6ef5a1-20d8-496a-a4cd-e68e37e5aefc\n"
     ]
    }
   ],
   "source": [
    "# Create a new thread\n",
    "response = auth.request(\"/generate-thread-id\", method=\"POST\")\n",
    "\n",
    "if response and response.status_code == 201:\n",
    "    thread_data = response.json()\n",
    "    thread_id = thread_data[\"thread_id\"]\n",
    "    print(f\"✅ Created new thread: {thread_id}\")\n",
    "else:\n",
    "    print(f\"❌ Failed to create thread: {response.status_code if response else 'No response'}\")\n",
    "    if response:\n",
    "        print(f\"   Error: {response.text}\")"
   ]
  },
  {
   "cell_type": "markdown",
   "id": "j8vu2ex7kuc",
   "metadata": {},
   "source": [
    "### Send a chat message to a thread"
   ]
  },
  {
   "cell_type": "code",
   "execution_count": 76,
   "id": "p9fvun8d8uo",
   "metadata": {},
   "outputs": [
    {
     "name": "stdout",
     "output_type": "stream",
     "text": [
      "✅ Message sent successfully to thread 6c6ef5a1-20d8-496a-a4cd-e68e37e5aefc\n",
      "Response content type: text/event-stream\n",
      "\n",
      "📨 Streaming response:\n",
      "data: {\"type\": \"state_update\", \"state\": {\"messages\": [{\"id\": \"240797d9-544f-4643-9a34-863d8aa722c4\", \"type\": \"human\", \"content\": \"Hello! How are you today?\", \"artifact\": null}, {\"id\": \"7471e56e-c4bd-4b68-9a9b-74ed5490a9d6\", \"type\": \"human\", \"content\": \"Hello! How are you today?\", \"artifact\": null}, {\"id\": \"385d3352-05a3-4b20-a627-28bb7697aff8\", \"type\": \"human\", \"content\": \"Hello! How are you today?\", \"artifact\": null}, {\"id\": \"c3535096-ebf1-4498-9e4a-ac693149751f\", \"type\": \"ai_message\", \"content\": \"I'm here to help with student loan management and Candidly's available services. How can I assist you with your student loans today?\", \"artifact\": null}, {\"id\": \"346e99b6-4749-4286-8d06-c2fc75e819da\", \"type\": \"human\", \"content\": \"Hello! How are you today?\", \"artifact\": null}, {\"id\": \"4fa95d74-d7e8-4f55-9cc6-f7552a7f3e5c\", \"type\": \"human\", \"content\": \"Hello! How are you today?\", \"artifact\": null}, {\"id\": \"run--c464d444-f398-4a44-aa3e-b28077141241\", \"type\": \"ai_message\", \"content\": \"Hello! I'm here and ready to help you with any questions you have about student loans or Candidly's services. How can I assist you today?\", \"artifact\": null}, {\"id\": \"88ec298b-debc-447a-9481-b36081f5d322\", \"type\": \"human\", \"content\": \"Hello! Who are you?\", \"artifact\": null}, {\"id\": \"run--ce7d4611-51bc-47ba-9fdd-e68c7e30390b\", \"type\": \"ai_message\", \"content\": \"Hi! I\\u2019m Begin, your AI fitness trainer. My goal is to help you build effective workout plans, answer your fitness questions, and support you on your fitness journey. Whether you\\u2019re just starting out or looking to level up your routine, I\\u2019m here to guide you every step of the way. How can I help you today?\", \"artifact\": null}, {\"id\": \"63129e99-79ac-4ef0-960a-f7c8ff023e42\", \"type\": \"human\", \"content\": \"Hello! Who are you?\", \"artifact\": null}]}}\n",
      "data: {\"type\": \"state_update\", \"state\": {\"messages\": [{\"id\": \"240797d9-544f-4643-9a34-863d8aa722c4\", \"type\": \"human\", \"content\": \"Hello! How are you today?\", \"artifact\": null}, {\"id\": \"7471e56e-c4bd-4b68-9a9b-74ed5490a9d6\", \"type\": \"human\", \"content\": \"Hello! How are you today?\", \"artifact\": null}, {\"id\": \"385d3352-05a3-4b20-a627-28bb7697aff8\", \"type\": \"human\", \"content\": \"Hello! How are you today?\", \"artifact\": null}, {\"id\": \"c3535096-ebf1-4498-9e4a-ac693149751f\", \"type\": \"ai_message\", \"content\": \"I'm here to help with student loan management and Candidly's available services. How can I assist you with your student loans today?\", \"artifact\": null}, {\"id\": \"346e99b6-4749-4286-8d06-c2fc75e819da\", \"type\": \"human\", \"content\": \"Hello! How are you today?\", \"artifact\": null}, {\"id\": \"4fa95d74-d7e8-4f55-9cc6-f7552a7f3e5c\", \"type\": \"human\", \"content\": \"Hello! How are you today?\", \"artifact\": null}, {\"id\": \"run--c464d444-f398-4a44-aa3e-b28077141241\", \"type\": \"ai_message\", \"content\": \"Hello! I'm here and ready to help you with any questions you have about student loans or Candidly's services. How can I assist you today?\", \"artifact\": null}, {\"id\": \"88ec298b-debc-447a-9481-b36081f5d322\", \"type\": \"human\", \"content\": \"Hello! Who are you?\", \"artifact\": null}, {\"id\": \"run--ce7d4611-51bc-47ba-9fdd-e68c7e30390b\", \"type\": \"ai_message\", \"content\": \"Hi! I\\u2019m Begin, your AI fitness trainer. My goal is to help you build effective workout plans, answer your fitness questions, and support you on your fitness journey. Whether you\\u2019re just starting out or looking to level up your routine, I\\u2019m here to guide you every step of the way. How can I help you today?\", \"artifact\": null}, {\"id\": \"63129e99-79ac-4ef0-960a-f7c8ff023e42\", \"type\": \"human\", \"content\": \"Hello! Who are you?\", \"artifact\": null}]}}\n",
      "data: {\"type\": \"state_update\", \"state\": {\"messages\": [{\"id\": \"240797d9-544f-4643-9a34-863d8aa722c4\", \"type\": \"human\", \"content\": \"Hello! How are you today?\", \"artifact\": null}, {\"id\": \"7471e56e-c4bd-4b68-9a9b-74ed5490a9d6\", \"type\": \"human\", \"content\": \"Hello! How are you today?\", \"artifact\": null}, {\"id\": \"385d3352-05a3-4b20-a627-28bb7697aff8\", \"type\": \"human\", \"content\": \"Hello! How are you today?\", \"artifact\": null}, {\"id\": \"c3535096-ebf1-4498-9e4a-ac693149751f\", \"type\": \"ai_message\", \"content\": \"I'm here to help with student loan management and Candidly's available services. How can I assist you with your student loans today?\", \"artifact\": null}, {\"id\": \"346e99b6-4749-4286-8d06-c2fc75e819da\", \"type\": \"human\", \"content\": \"Hello! How are you today?\", \"artifact\": null}, {\"id\": \"4fa95d74-d7e8-4f55-9cc6-f7552a7f3e5c\", \"type\": \"human\", \"content\": \"Hello! How are you today?\", \"artifact\": null}, {\"id\": \"run--c464d444-f398-4a44-aa3e-b28077141241\", \"type\": \"ai_message\", \"content\": \"Hello! I'm here and ready to help you with any questions you have about student loans or Candidly's services. How can I assist you today?\", \"artifact\": null}, {\"id\": \"88ec298b-debc-447a-9481-b36081f5d322\", \"type\": \"human\", \"content\": \"Hello! Who are you?\", \"artifact\": null}, {\"id\": \"run--ce7d4611-51bc-47ba-9fdd-e68c7e30390b\", \"type\": \"ai_message\", \"content\": \"Hi! I\\u2019m Begin, your AI fitness trainer. My goal is to help you build effective workout plans, answer your fitness questions, and support you on your fitness journey. Whether you\\u2019re just starting out or looking to level up your routine, I\\u2019m here to guide you every step of the way. How can I help you today?\", \"artifact\": null}, {\"id\": \"63129e99-79ac-4ef0-960a-f7c8ff023e42\", \"type\": \"human\", \"content\": \"Hello! Who are you?\", \"artifact\": null}]}}\n",
      "data: {\"type\": \"state_update\", \"state\": {\"messages\": [{\"id\": \"240797d9-544f-4643-9a34-863d8aa722c4\", \"type\": \"human\", \"content\": \"Hello! How are you today?\", \"artifact\": null}, {\"id\": \"7471e56e-c4bd-4b68-9a9b-74ed5490a9d6\", \"type\": \"human\", \"content\": \"Hello! How are you today?\", \"artifact\": null}, {\"id\": \"385d3352-05a3-4b20-a627-28bb7697aff8\", \"type\": \"human\", \"content\": \"Hello! How are you today?\", \"artifact\": null}, {\"id\": \"c3535096-ebf1-4498-9e4a-ac693149751f\", \"type\": \"ai_message\", \"content\": \"I'm here to help with student loan management and Candidly's available services. How can I assist you with your student loans today?\", \"artifact\": null}, {\"id\": \"346e99b6-4749-4286-8d06-c2fc75e819da\", \"type\": \"human\", \"content\": \"Hello! How are you today?\", \"artifact\": null}, {\"id\": \"4fa95d74-d7e8-4f55-9cc6-f7552a7f3e5c\", \"type\": \"human\", \"content\": \"Hello! How are you today?\", \"artifact\": null}, {\"id\": \"run--c464d444-f398-4a44-aa3e-b28077141241\", \"type\": \"ai_message\", \"content\": \"Hello! I'm here and ready to help you with any questions you have about student loans or Candidly's services. How can I assist you today?\", \"artifact\": null}, {\"id\": \"88ec298b-debc-447a-9481-b36081f5d322\", \"type\": \"human\", \"content\": \"Hello! Who are you?\", \"artifact\": null}, {\"id\": \"run--ce7d4611-51bc-47ba-9fdd-e68c7e30390b\", \"type\": \"ai_message\", \"content\": \"Hi! I\\u2019m Begin, your AI fitness trainer. My goal is to help you build effective workout plans, answer your fitness questions, and support you on your fitness journey. Whether you\\u2019re just starting out or looking to level up your routine, I\\u2019m here to guide you every step of the way. How can I help you today?\", \"artifact\": null}, {\"id\": \"63129e99-79ac-4ef0-960a-f7c8ff023e42\", \"type\": \"human\", \"content\": \"Hello! Who are you?\", \"artifact\": null}]}}\n",
      "data: {\"type\": \"state_update\", \"state\": {\"messages\": [{\"id\": \"240797d9-544f-4643-9a34-863d8aa722c4\", \"type\": \"human\", \"content\": \"Hello! How are you today?\", \"artifact\": null}, {\"id\": \"7471e56e-c4bd-4b68-9a9b-74ed5490a9d6\", \"type\": \"human\", \"content\": \"Hello! How are you today?\", \"artifact\": null}, {\"id\": \"385d3352-05a3-4b20-a627-28bb7697aff8\", \"type\": \"human\", \"content\": \"Hello! How are you today?\", \"artifact\": null}, {\"id\": \"c3535096-ebf1-4498-9e4a-ac693149751f\", \"type\": \"ai_message\", \"content\": \"I'm here to help with student loan management and Candidly's available services. How can I assist you with your student loans today?\", \"artifact\": null}, {\"id\": \"346e99b6-4749-4286-8d06-c2fc75e819da\", \"type\": \"human\", \"content\": \"Hello! How are you today?\", \"artifact\": null}, {\"id\": \"4fa95d74-d7e8-4f55-9cc6-f7552a7f3e5c\", \"type\": \"human\", \"content\": \"Hello! How are you today?\", \"artifact\": null}, {\"id\": \"run--c464d444-f398-4a44-aa3e-b28077141241\", \"type\": \"ai_message\", \"content\": \"Hello! I'm here and ready to help you with any questions you have about student loans or Candidly's services. How can I assist you today?\", \"artifact\": null}, {\"id\": \"88ec298b-debc-447a-9481-b36081f5d322\", \"type\": \"human\", \"content\": \"Hello! Who are you?\", \"artifact\": null}, {\"id\": \"run--ce7d4611-51bc-47ba-9fdd-e68c7e30390b\", \"type\": \"ai_message\", \"content\": \"Hi! I\\u2019m Begin, your AI fitness trainer. My goal is to help you build effective workout plans, answer your fitness questions, and support you on your fitness journey. Whether you\\u2019re just starting out or looking to level up your routine, I\\u2019m here to guide you every step of the way. How can I help you today?\", \"artifact\": null}, {\"id\": \"63129e99-79ac-4ef0-960a-f7c8ff023e42\", \"type\": \"human\", \"content\": \"Hello! Who are you?\", \"artifact\": null}, {\"id\": \"run--76cf6a36-d0ae-4582-ad96-505c3467c507\", \"type\": \"ai_message\", \"content\": \"Hi there! I\\u2019m Begin, your AI fitness trainer. I\\u2019m here to help you create workout plans, answer your fitness questions, and support you in reaching your health and fitness goals. Whether you\\u2019re new to exercise or looking to optimize your routine, I\\u2019ve got your back. How can I help you get started today?\", \"artifact\": null}]}}\n",
      "data: {\"type\": \"done\"}\n"
     ]
    }
   ],
   "source": [
    "# Send a message to the specific thread\n",
    "thread_id = \"6c6ef5a1-20d8-496a-a4cd-e68e37e5aefc\"\n",
    "message = \"Hello! Who are you?\"\n",
    "\n",
    "response = auth.request(\n",
    "    f\"/threads/{thread_id}/chat\",\n",
    "    method=\"POST\",\n",
    "    data={\"message\": message}\n",
    ")\n",
    "\n",
    "if response and response.ok:\n",
    "    print(f\"✅ Message sent successfully to thread {thread_id}\")\n",
    "    print(\"Response content type:\", response.headers.get(\"content-type\"))\n",
    "    \n",
    "    # Since this is a streaming endpoint, let's read the stream\n",
    "    print(\"\\n📨 Streaming response:\")\n",
    "    for line in response.iter_lines(decode_unicode=True):\n",
    "        if line.strip():\n",
    "            print(line)\n",
    "else:\n",
    "    print(f\"❌ Failed to send message: {response.status_code if response else 'No response'}\")\n",
    "    if response:\n",
    "        print(f\"   Error: {response.text}\")"
   ]
  },
  {
   "cell_type": "markdown",
   "id": "r4dinmsen7",
   "metadata": {},
   "source": [
    "### Initialize LangGraph PostgreSQL Checkpointing (One-time Setup)"
   ]
  },
  {
   "cell_type": "code",
   "execution_count": null,
   "id": "exrakbdz7t7",
   "metadata": {},
   "outputs": [],
   "source": [
    "import asyncio\n",
    "import os\n",
    "from dotenv import load_dotenv\n",
    "from langgraph.checkpoint.postgres.aio import AsyncPostgresSaver\n",
    "\n",
    "# Load environment variables\n",
    "load_dotenv()\n",
    "\n",
    "async def setup_checkpointer():\n",
    "    \"\"\"\n",
    "    One-time setup to initialize LangGraph checkpointer tables in PostgreSQL.\n",
    "    This creates the necessary tables for storing conversation state and checkpoints.\n",
    "    \"\"\"\n",
    "    # Build database URL from individual environment variables\n",
    "    user = os.getenv(\"POSTGRES_USERNAME\")\n",
    "    password = os.getenv(\"POSTGRES_PASSWORD\")\n",
    "    host = os.getenv(\"POSTGRES_HOST\")\n",
    "    port = os.getenv(\"POSTGRES_PORT\", \"5432\")\n",
    "    database = os.getenv(\"POSTGRES_DB\")\n",
    "    \n",
    "    # Construct the database URL (psycopg format for AsyncPostgresSaver)\n",
    "    psycopg_connection_string = f\"postgresql://{user}:{password}@{host}:{port}/{database}\"\n",
    "    \n",
    "    print(f\"📡 Connecting to: {host}:{port}/{database}\")\n",
    "    \n",
    "    try:\n",
    "        # Create AsyncPostgresSaver instance using from_conn_string\n",
    "        async with AsyncPostgresSaver.from_conn_string(psycopg_connection_string) as checkpointer:\n",
    "            # Setup the checkpointer tables\n",
    "            await checkpointer.setup()\n",
    "            print(\"✅ LangGraph checkpointer tables initialized successfully!\")\n",
    "            print(\"   Tables created:\")\n",
    "            print(\"   - checkpoints\")\n",
    "            print(\"   - checkpoint_blobs\") \n",
    "            print(\"   - checkpoint_writes\")\n",
    "            print(\"   - checkpoint_metadata\")\n",
    "            \n",
    "    except Exception as e:\n",
    "        print(f\"❌ Failed to setup checkpointer: {e}\")\n",
    "        import traceback\n",
    "        traceback.print_exc()\n",
    "\n",
    "# Run the setup\n",
    "await setup_checkpointer()\n",
    "print(\"\\n⚠️ This is a one-time setup. You don't need to run this cell again unless you're setting up a new database.\")"
   ]
  },
  {
   "cell_type": "markdown",
   "id": "sjxj7nbtdfo",
   "metadata": {},
   "source": [
    "### Alternative: Check if checkpointer tables exist"
   ]
  },
  {
   "cell_type": "markdown",
   "id": "635bba2d",
   "metadata": {},
   "source": []
  },
  {
   "cell_type": "code",
   "execution_count": 59,
   "id": "l62w258xd",
   "metadata": {},
   "outputs": [
    {
     "name": "stdout",
     "output_type": "stream",
     "text": [
      "📡 Checking tables in: db.cwszjkhrbfzzpjvephsx.supabase.co:5432/postgres\n",
      "⚠️ No checkpointer tables found. Run the setup cell above to create them.\n"
     ]
    }
   ],
   "source": [
    "import asyncio\n",
    "from sqlalchemy.ext.asyncio import create_async_engine\n",
    "from sqlalchemy import text\n",
    "\n",
    "async def check_checkpointer_tables():\n",
    "    \"\"\"\n",
    "    Check if LangGraph checkpointer tables exist in the database.\n",
    "    \"\"\"\n",
    "    # Build database URL from individual environment variables\n",
    "    user = os.getenv(\"POSTGRES_USERNAME\")\n",
    "    password = os.getenv(\"POSTGRES_PASSWORD\")\n",
    "    host = os.getenv(\"POSTGRES_HOST\")\n",
    "    port = os.getenv(\"POSTGRES_PORT\")\n",
    "    database = os.getenv(\"POSTGRES_DB\")\n",
    "    \n",
    "    # Construct the database URL (matching backend format)\n",
    "    alchemy_connection_string = f\"postgresql+asyncpg://{user}:{password}@{host}:{port}/{database}\"\n",
    "    \n",
    "    print(f\"📡 Checking tables in: {host}:{port}/{database}\")\n",
    "    \n",
    "    engine = create_async_engine(alchemy_connection_string)\n",
    "    \n",
    "    try:\n",
    "        async with engine.connect() as conn:\n",
    "            # Query to check for checkpointer tables\n",
    "            result = await conn.execute(text(\"\"\"\n",
    "                SELECT tablename \n",
    "                FROM pg_tables \n",
    "                WHERE schemaname = 'public' \n",
    "                AND tablename IN ('checkpoints', 'checkpoint_blobs', 'checkpoint_writes', 'checkpoint_metadata')\n",
    "                ORDER BY tablename;\n",
    "            \"\"\"))\n",
    "\n",
    "            tables = [row[0] for row in result]\n",
    "            \n",
    "            if tables:\n",
    "                print(\"✅ Found existing checkpointer tables:\")\n",
    "                for table in tables:\n",
    "                    print(f\"   - {table}\")\n",
    "            else:\n",
    "                print(\"⚠️ No checkpointer tables found. Run the setup cell above to create them.\")\n",
    "                \n",
    "            return tables\n",
    "            \n",
    "    except Exception as e:\n",
    "        print(f\"❌ Error checking tables: {e}\")\n",
    "        return []\n",
    "    finally:\n",
    "        await engine.dispose()\n",
    "\n",
    "# Check for existing tables\n",
    "existing_tables = await check_checkpointer_tables()"
   ]
  },
  {
   "cell_type": "code",
   "execution_count": 60,
   "id": "k3ibtu2w5wp",
   "metadata": {},
   "outputs": [
    {
     "name": "stdout",
     "output_type": "stream",
     "text": [
      "📡 Connecting to: db.cwszjkhrbfzzpjvephsx.supabase.co:5432/postgres\n",
      "✅ LangGraph checkpointer tables initialized successfully!\n",
      "   Tables created:\n",
      "   - checkpoints\n",
      "   - checkpoint_blobs\n",
      "   - checkpoint_writes\n",
      "   - checkpoint_metadata\n",
      "\n",
      "⚠️ This is a one-time setup. You don't need to run this cell again unless you're setting up a new database.\n"
     ]
    }
   ],
   "source": [
    "import asyncio\n",
    "import os\n",
    "from dotenv import load_dotenv\n",
    "from langgraph.checkpoint.postgres.aio import AsyncPostgresSaver\n",
    "\n",
    "# Load environment variables\n",
    "load_dotenv()\n",
    "\n",
    "async def setup_checkpointer():\n",
    "    \"\"\"\n",
    "    One-time setup to initialize LangGraph checkpointer tables in PostgreSQL.\n",
    "    This creates the necessary tables for storing conversation state and checkpoints.\n",
    "    \"\"\"\n",
    "    # Build database URL from individual environment variables\n",
    "    user = os.getenv(\"POSTGRES_USERNAME\")\n",
    "    password = os.getenv(\"POSTGRES_PASSWORD\")\n",
    "    host = os.getenv(\"POSTGRES_HOST\")\n",
    "    port = os.getenv(\"POSTGRES_PORT\", \"5432\")\n",
    "    database = os.getenv(\"POSTGRES_DB\")\n",
    "    \n",
    "    # Construct the database URL (psycopg format for AsyncPostgresSaver)\n",
    "    psycopg_connection_string = f\"postgresql://{user}:{password}@{host}:{port}/{database}\"\n",
    "    \n",
    "    print(f\"📡 Connecting to: {host}:{port}/{database}\")\n",
    "    \n",
    "    try:\n",
    "        # Create AsyncPostgresSaver instance using from_conn_string\n",
    "        async with AsyncPostgresSaver.from_conn_string(psycopg_connection_string) as checkpointer:\n",
    "            # Setup the checkpointer tables\n",
    "            await checkpointer.setup()\n",
    "            print(\"✅ LangGraph checkpointer tables initialized successfully!\")\n",
    "            print(\"   Tables created:\")\n",
    "            print(\"   - checkpoints\")\n",
    "            print(\"   - checkpoint_blobs\") \n",
    "            print(\"   - checkpoint_writes\")\n",
    "            print(\"   - checkpoint_metadata\")\n",
    "            \n",
    "    except Exception as e:\n",
    "        print(f\"❌ Failed to setup checkpointer: {e}\")\n",
    "        import traceback\n",
    "        traceback.print_exc()\n",
    "\n",
    "# Run the setup\n",
    "await setup_checkpointer()\n",
    "print(\"\\n⚠️ This is a one-time setup. You don't need to run this cell again unless you're setting up a new database.\")"
   ]
  }
 ],
 "metadata": {
  "kernelspec": {
   "display_name": "BEGIN Backend",
   "language": "python",
   "name": "begin-backend"
  },
  "language_info": {
   "codemirror_mode": {
    "name": "ipython",
    "version": 3
   },
   "file_extension": ".py",
   "mimetype": "text/x-python",
   "name": "python",
   "nbconvert_exporter": "python",
   "pygments_lexer": "ipython3",
   "version": "3.12.11"
  }
 },
 "nbformat": 4,
 "nbformat_minor": 5
}
